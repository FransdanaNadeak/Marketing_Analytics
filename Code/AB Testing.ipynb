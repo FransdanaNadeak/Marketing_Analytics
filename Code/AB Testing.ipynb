{
 "cells": [
  {
   "cell_type": "markdown",
   "metadata": {},
   "source": [
    "# A/B Testing"
   ]
  },
  {
   "cell_type": "markdown",
   "metadata": {},
   "source": [
    "A/B testing (also known as split testing or bucket testing) is a method of comparing two versions of a webpage or app against each other to determine which one performs better. AB testing is essentially an experiment where two or more variants of a page are shown to users at random, and statistical analysis is used to determine which variation performs better for a given conversion goal."
   ]
  },
  {
   "cell_type": "markdown",
   "metadata": {},
   "source": [
    "#### Goal \n",
    "To understand if a difference between two versions is statistically significant\n",
    "#### Why business do A/B Testing? \n",
    "To understand customer behavior with data driven approach, not intuition."
   ]
  },
  {
   "cell_type": "markdown",
   "metadata": {},
   "source": [
    "## Import Library"
   ]
  },
  {
   "cell_type": "code",
   "execution_count": 25,
   "metadata": {},
   "outputs": [],
   "source": [
    "# importing required packages\n",
    "import warnings\n",
    "warnings.filterwarnings(\"ignore\")\n",
    "import pyodbc\n",
    "import textwrap\n",
    "from numpy import nansum\n",
    "from numpy import nanmean\n",
    "import pandas as pd\n",
    "#import statsmodels.stats.api as sms\n",
    "from scipy import stats as st\n",
    "import seaborn as sns\n",
    "import matplotlib.pyplot as plt\n",
    "import numpy as np\n",
    "import pandas as pd\n",
    "from scipy import stats\n",
    "from statsmodels.stats import weightstats as stests"
   ]
  },
  {
   "cell_type": "markdown",
   "metadata": {},
   "source": [
    "## Load Dataset"
   ]
  },
  {
   "cell_type": "code",
   "execution_count": 13,
   "metadata": {},
   "outputs": [
    {
     "data": {
      "text/html": [
       "<div>\n",
       "<style scoped>\n",
       "    .dataframe tbody tr th:only-of-type {\n",
       "        vertical-align: middle;\n",
       "    }\n",
       "\n",
       "    .dataframe tbody tr th {\n",
       "        vertical-align: top;\n",
       "    }\n",
       "\n",
       "    .dataframe thead th {\n",
       "        text-align: right;\n",
       "    }\n",
       "</style>\n",
       "<table border=\"1\" class=\"dataframe\">\n",
       "  <thead>\n",
       "    <tr style=\"text-align: right;\">\n",
       "      <th></th>\n",
       "      <th>Date</th>\n",
       "      <th>Pageviews</th>\n",
       "      <th>Clicks</th>\n",
       "      <th>Enrollments</th>\n",
       "      <th>Payments</th>\n",
       "    </tr>\n",
       "  </thead>\n",
       "  <tbody>\n",
       "    <tr>\n",
       "      <td>0</td>\n",
       "      <td>Sat, Oct 11</td>\n",
       "      <td>7723</td>\n",
       "      <td>687</td>\n",
       "      <td>134.0</td>\n",
       "      <td>70.0</td>\n",
       "    </tr>\n",
       "    <tr>\n",
       "      <td>1</td>\n",
       "      <td>Sun, Oct 12</td>\n",
       "      <td>9102</td>\n",
       "      <td>779</td>\n",
       "      <td>147.0</td>\n",
       "      <td>70.0</td>\n",
       "    </tr>\n",
       "    <tr>\n",
       "      <td>2</td>\n",
       "      <td>Mon, Oct 13</td>\n",
       "      <td>10511</td>\n",
       "      <td>909</td>\n",
       "      <td>167.0</td>\n",
       "      <td>95.0</td>\n",
       "    </tr>\n",
       "    <tr>\n",
       "      <td>3</td>\n",
       "      <td>Tue, Oct 14</td>\n",
       "      <td>9871</td>\n",
       "      <td>836</td>\n",
       "      <td>156.0</td>\n",
       "      <td>105.0</td>\n",
       "    </tr>\n",
       "    <tr>\n",
       "      <td>4</td>\n",
       "      <td>Wed, Oct 15</td>\n",
       "      <td>10014</td>\n",
       "      <td>837</td>\n",
       "      <td>163.0</td>\n",
       "      <td>64.0</td>\n",
       "    </tr>\n",
       "  </tbody>\n",
       "</table>\n",
       "</div>"
      ],
      "text/plain": [
       "          Date  Pageviews  Clicks  Enrollments  Payments\n",
       "0  Sat, Oct 11       7723     687        134.0      70.0\n",
       "1  Sun, Oct 12       9102     779        147.0      70.0\n",
       "2  Mon, Oct 13      10511     909        167.0      95.0\n",
       "3  Tue, Oct 14       9871     836        156.0     105.0\n",
       "4  Wed, Oct 15      10014     837        163.0      64.0"
      ]
     },
     "execution_count": 13,
     "metadata": {},
     "output_type": "execute_result"
    }
   ],
   "source": [
    "control=pd.read_csv('control_data.csv')\n",
    "experiment=pd.read_csv('experiment_data.csv')\n",
    "\n",
    "#print(len(control),len(experiment))\n",
    "\n",
    "experiment['Clicks']=experiment['Clicks']+250\n",
    "control.head()"
   ]
  },
  {
   "cell_type": "markdown",
   "metadata": {},
   "source": [
    "#### About the data\n",
    "\n",
    "Data for the final project on A/B testing by udacity.\n",
    "\n",
    "#### The meaning of each column is:\n",
    "\n",
    "1. Pageviews: Number of unique cookies to view the course overview page that day. \n",
    "2. Clicks: Number of unique cookies to click the course overview page that day. \n",
    "3. Enrollments: Number of user-ids to enroll in the free trial that day. \n",
    "4. Payments: Number of user-ids who who enrolled on that day to remain enrolled for 14 days and thus make a payment. (Note that 5.the date for this column is the start date, that is, the date of enrollment, rather than the date of the payment. The payment happened 14 days later. Because of this, the enrollments and payments are tracked for 14 fewer days than the other columns.)\n"
   ]
  },
  {
   "cell_type": "markdown",
   "metadata": {},
   "source": [
    "## Labelling the Data by Control and Experiments"
   ]
  },
  {
   "cell_type": "code",
   "execution_count": 14,
   "metadata": {},
   "outputs": [],
   "source": [
    "type=[]\n",
    "for i in range(len(control)):\n",
    "    type.append('control')\n",
    "    "
   ]
  },
  {
   "cell_type": "code",
   "execution_count": 15,
   "metadata": {},
   "outputs": [],
   "source": [
    "for i in range(len(experiment)):\n",
    "    type.append('experiment')"
   ]
  },
  {
   "cell_type": "markdown",
   "metadata": {},
   "source": [
    "## Concat Control data and Experiment Data into single Dataset"
   ]
  },
  {
   "cell_type": "code",
   "execution_count": 16,
   "metadata": {},
   "outputs": [
    {
     "data": {
      "text/html": [
       "<div>\n",
       "<style scoped>\n",
       "    .dataframe tbody tr th:only-of-type {\n",
       "        vertical-align: middle;\n",
       "    }\n",
       "\n",
       "    .dataframe tbody tr th {\n",
       "        vertical-align: top;\n",
       "    }\n",
       "\n",
       "    .dataframe thead th {\n",
       "        text-align: right;\n",
       "    }\n",
       "</style>\n",
       "<table border=\"1\" class=\"dataframe\">\n",
       "  <thead>\n",
       "    <tr style=\"text-align: right;\">\n",
       "      <th></th>\n",
       "      <th>Pageviews</th>\n",
       "      <th>Clicks</th>\n",
       "      <th>type</th>\n",
       "    </tr>\n",
       "  </thead>\n",
       "  <tbody>\n",
       "    <tr>\n",
       "      <td>0</td>\n",
       "      <td>7723</td>\n",
       "      <td>687</td>\n",
       "      <td>control</td>\n",
       "    </tr>\n",
       "    <tr>\n",
       "      <td>1</td>\n",
       "      <td>9102</td>\n",
       "      <td>779</td>\n",
       "      <td>control</td>\n",
       "    </tr>\n",
       "    <tr>\n",
       "      <td>2</td>\n",
       "      <td>10511</td>\n",
       "      <td>909</td>\n",
       "      <td>control</td>\n",
       "    </tr>\n",
       "    <tr>\n",
       "      <td>3</td>\n",
       "      <td>9871</td>\n",
       "      <td>836</td>\n",
       "      <td>control</td>\n",
       "    </tr>\n",
       "    <tr>\n",
       "      <td>4</td>\n",
       "      <td>10014</td>\n",
       "      <td>837</td>\n",
       "      <td>control</td>\n",
       "    </tr>\n",
       "    <tr>\n",
       "      <td>...</td>\n",
       "      <td>...</td>\n",
       "      <td>...</td>\n",
       "      <td>...</td>\n",
       "    </tr>\n",
       "    <tr>\n",
       "      <td>32</td>\n",
       "      <td>10042</td>\n",
       "      <td>1052</td>\n",
       "      <td>experiment</td>\n",
       "    </tr>\n",
       "    <tr>\n",
       "      <td>33</td>\n",
       "      <td>9721</td>\n",
       "      <td>1079</td>\n",
       "      <td>experiment</td>\n",
       "    </tr>\n",
       "    <tr>\n",
       "      <td>34</td>\n",
       "      <td>9304</td>\n",
       "      <td>1020</td>\n",
       "      <td>experiment</td>\n",
       "    </tr>\n",
       "    <tr>\n",
       "      <td>35</td>\n",
       "      <td>8668</td>\n",
       "      <td>974</td>\n",
       "      <td>experiment</td>\n",
       "    </tr>\n",
       "    <tr>\n",
       "      <td>36</td>\n",
       "      <td>8988</td>\n",
       "      <td>960</td>\n",
       "      <td>experiment</td>\n",
       "    </tr>\n",
       "  </tbody>\n",
       "</table>\n",
       "<p>74 rows × 3 columns</p>\n",
       "</div>"
      ],
      "text/plain": [
       "    Pageviews  Clicks        type\n",
       "0        7723     687     control\n",
       "1        9102     779     control\n",
       "2       10511     909     control\n",
       "3        9871     836     control\n",
       "4       10014     837     control\n",
       "..        ...     ...         ...\n",
       "32      10042    1052  experiment\n",
       "33       9721    1079  experiment\n",
       "34       9304    1020  experiment\n",
       "35       8668     974  experiment\n",
       "36       8988     960  experiment\n",
       "\n",
       "[74 rows x 3 columns]"
      ]
     },
     "execution_count": 16,
     "metadata": {},
     "output_type": "execute_result"
    }
   ],
   "source": [
    "ab_data=pd.concat([control,experiment],axis=0)\n",
    "ab_data=ab_data.drop(['Date','Enrollments','Payments'],1)\n",
    "dataset=pd.DataFrame(ab_data)\n",
    "dataset['type']=type\n",
    "dataset"
   ]
  },
  {
   "cell_type": "markdown",
   "metadata": {},
   "source": [
    "## A/B Testing Question\n",
    "The question of this dataset is whether the Treatment Giving will affect how many Pageviews and Clicks from the applicant "
   ]
  },
  {
   "cell_type": "markdown",
   "metadata": {},
   "source": [
    "## A/B Testing by Data Exploration and Visualization"
   ]
  },
  {
   "cell_type": "code",
   "execution_count": 17,
   "metadata": {},
   "outputs": [
    {
     "data": {
      "text/plain": [
       "Text(0.5, 1.0, 'Boxplot of Pageviews')"
      ]
     },
     "execution_count": 17,
     "metadata": {},
     "output_type": "execute_result"
    },
    {
     "data": {
      "image/png": "[encoded data removed]",
      "text/plain": [
       "<Figure size 1080x864 with 4 Axes>"
      ]
     },
     "metadata": {},
     "output_type": "display_data"
    }
   ],
   "source": [
    "plt.style.use('ggplot')\n",
    "f=plt.figure(figsize=(15,12))\n",
    "f.add_subplot(2,2,1)\n",
    "df = dataset[dataset.type == 'control']\n",
    "sns.distplot(df['Clicks'],  kde=False, label='control')\n",
    "\n",
    "df = dataset[dataset.type == 'experiment']\n",
    "sns.distplot(df['Clicks'],  kde=False, label='experiment')\n",
    "plt.title('Histogram of Clicks')\n",
    "\n",
    "f.add_subplot(2,2,2)\n",
    "df = dataset[dataset.type == 'control']\n",
    "sns.distplot(df['Pageviews'],  kde=False, label='control')\n",
    "df = dataset[dataset.type == 'experiment']\n",
    "sns.distplot(df['Pageviews'],  kde=False, label='experiment')\n",
    "plt.title('Histogram of Pageviews')\n",
    "\n",
    "f.add_subplot(2,2,3)\n",
    "sns.boxplot(dataset['Clicks'],y=dataset['type'])\n",
    "plt.title('Boxplot of Clicks')\n",
    "\n",
    "\n",
    "f.add_subplot(2,2,4)\n",
    "sns.boxplot(dataset['Pageviews'],y=dataset['type'])\n",
    "plt.title('Boxplot of Pageviews')\n"
   ]
  },
  {
   "cell_type": "markdown",
   "metadata": {},
   "source": [
    "From the boxplot and distribution plot, it can be seen that the Clicks variable changes and increases after being given treatment, while the Pagviews variable does not look any difference, before and after being given a treatment"
   ]
  },
  {
   "cell_type": "markdown",
   "metadata": {},
   "source": [
    "## A/B Testing with Hypothesis testing"
   ]
  },
  {
   "cell_type": "markdown",
   "metadata": {},
   "source": [
    "Hypotesting Testing that will be used is Z_test because the amount of data is greater than 30. So, I will build The A/B Testing Function "
   ]
  },
  {
   "cell_type": "code",
   "execution_count": 22,
   "metadata": {},
   "outputs": [],
   "source": [
    "def Z_test(data1,data2) :\n",
    "    data1_mean=np.mean(data1)\n",
    "    data2_mean=np.mean(data2)\n",
    "    data1_std=np.std(data1)\n",
    "    data2_std=np.std(data2)\n",
    "    ztest ,pval1 = stests.ztest(data1, x2=data2, value=0,alternative='two-sided')\n",
    "    decision1=\"reject null hypothesis\"\n",
    "    decision2=\"accept null hypothesis\"\n",
    "    decision= decision1 if pval1<0.05 else decision2\n",
    "    \n",
    "    tabel=pd.DataFrame()\n",
    "    tabel['Data']=['Control','Group']\n",
    "    tabel['Mean']=[data1_mean,data2_mean]\n",
    "    tabel['Standar_Dev']=[data1_std,data2_std]\n",
    "    tabel['Z_Score']=[ztest,'']\n",
    "    tabel['P-Value']=[pval1,'']\n",
    "    tabel['Decision']=[decision,'']\n",
    "    return tabel"
   ]
  },
  {
   "cell_type": "markdown",
   "metadata": {},
   "source": [
    "### A/B Testing for Clicks\n",
    "\n",
    "1. H0 : There is no difference of Number Clicks after being given the treatmant\n",
    "2. H1 : There is a difference significantly from Number Clicks after being given the treatmant\n",
    "\n",
    "If the P-Value is less than 0.05, then reject Null Hypothesis"
   ]
  },
  {
   "cell_type": "code",
   "execution_count": 23,
   "metadata": {},
   "outputs": [
    {
     "data": {
      "text/html": [
       "<div>\n",
       "<style scoped>\n",
       "    .dataframe tbody tr th:only-of-type {\n",
       "        vertical-align: middle;\n",
       "    }\n",
       "\n",
       "    .dataframe tbody tr th {\n",
       "        vertical-align: top;\n",
       "    }\n",
       "\n",
       "    .dataframe thead th {\n",
       "        text-align: right;\n",
       "    }\n",
       "</style>\n",
       "<table border=\"1\" class=\"dataframe\">\n",
       "  <thead>\n",
       "    <tr style=\"text-align: right;\">\n",
       "      <th></th>\n",
       "      <th>Data</th>\n",
       "      <th>Mean</th>\n",
       "      <th>Standar_Dev</th>\n",
       "      <th>Z_Score</th>\n",
       "      <th>P-Value</th>\n",
       "      <th>Decision</th>\n",
       "    </tr>\n",
       "  </thead>\n",
       "  <tbody>\n",
       "    <tr>\n",
       "      <td>0</td>\n",
       "      <td>Control</td>\n",
       "      <td>766.972973</td>\n",
       "      <td>67.357652</td>\n",
       "      <td>-16.0872</td>\n",
       "      <td>3.13762e-58</td>\n",
       "      <td>reject null hypothesis</td>\n",
       "    </tr>\n",
       "    <tr>\n",
       "      <td>1</td>\n",
       "      <td>Group</td>\n",
       "      <td>1015.540541</td>\n",
       "      <td>63.699716</td>\n",
       "      <td></td>\n",
       "      <td></td>\n",
       "      <td></td>\n",
       "    </tr>\n",
       "  </tbody>\n",
       "</table>\n",
       "</div>"
      ],
      "text/plain": [
       "      Data         Mean  Standar_Dev  Z_Score      P-Value  \\\n",
       "0  Control   766.972973    67.357652 -16.0872  3.13762e-58   \n",
       "1    Group  1015.540541    63.699716                         \n",
       "\n",
       "                 Decision  \n",
       "0  reject null hypothesis  \n",
       "1                          "
      ]
     },
     "execution_count": 23,
     "metadata": {},
     "output_type": "execute_result"
    }
   ],
   "source": [
    "Z_test(control['Clicks'],experiment['Clicks'])"
   ]
  },
  {
   "cell_type": "markdown",
   "metadata": {},
   "source": [
    "#### Interpretation\n",
    "\n",
    "From the table, we can see that the P-value is less than 0.05, so Decision is Reject Null Hypothesis. So, we can conclude that There is a difference significantly from Number Clicks after being given the treatmant"
   ]
  },
  {
   "cell_type": "markdown",
   "metadata": {},
   "source": [
    "-----"
   ]
  },
  {
   "cell_type": "markdown",
   "metadata": {},
   "source": [
    "### A/B Testing for Pageviews\n",
    "\n",
    "1. H0 : There is no difference of Number Pageviews after being given the treatmant\n",
    "2. H1 : There is a difference significantly from Number Pageviews after being given the treatmant\n",
    "\n",
    "If the P-Value is less than 0.05, then reject Null Hypothesis"
   ]
  },
  {
   "cell_type": "code",
   "execution_count": 28,
   "metadata": {},
   "outputs": [
    {
     "data": {
      "text/html": [
       "<div>\n",
       "<style scoped>\n",
       "    .dataframe tbody tr th:only-of-type {\n",
       "        vertical-align: middle;\n",
       "    }\n",
       "\n",
       "    .dataframe tbody tr th {\n",
       "        vertical-align: top;\n",
       "    }\n",
       "\n",
       "    .dataframe thead th {\n",
       "        text-align: right;\n",
       "    }\n",
       "</style>\n",
       "<table border=\"1\" class=\"dataframe\">\n",
       "  <thead>\n",
       "    <tr style=\"text-align: right;\">\n",
       "      <th></th>\n",
       "      <th>Data</th>\n",
       "      <th>Mean</th>\n",
       "      <th>Standar_Dev</th>\n",
       "      <th>Z_Score</th>\n",
       "      <th>P-Value</th>\n",
       "      <th>Decision</th>\n",
       "    </tr>\n",
       "  </thead>\n",
       "  <tbody>\n",
       "    <tr>\n",
       "      <td>0</td>\n",
       "      <td>Control</td>\n",
       "      <td>9339.000000</td>\n",
       "      <td>730.167807</td>\n",
       "      <td>0.141712</td>\n",
       "      <td>0.887308</td>\n",
       "      <td>accept null hypothesis</td>\n",
       "    </tr>\n",
       "    <tr>\n",
       "      <td>1</td>\n",
       "      <td>Group</td>\n",
       "      <td>9315.135135</td>\n",
       "      <td>698.436716</td>\n",
       "      <td></td>\n",
       "      <td></td>\n",
       "      <td></td>\n",
       "    </tr>\n",
       "  </tbody>\n",
       "</table>\n",
       "</div>"
      ],
      "text/plain": [
       "      Data         Mean  Standar_Dev   Z_Score   P-Value  \\\n",
       "0  Control  9339.000000   730.167807  0.141712  0.887308   \n",
       "1    Group  9315.135135   698.436716                       \n",
       "\n",
       "                 Decision  \n",
       "0  accept null hypothesis  \n",
       "1                          "
      ]
     },
     "execution_count": 28,
     "metadata": {},
     "output_type": "execute_result"
    }
   ],
   "source": [
    "Z_test(control['Pageviews'],experiment['Pageviews'])"
   ]
  },
  {
   "cell_type": "markdown",
   "metadata": {},
   "source": [
    "#### Interpretation\n",
    "\n",
    "From the table, we can see that the P-value is greater than 0.05, so the Decision is to not to Reject Null Hypothesis. So, we can conclude that There is no difference of Number Pageviews after being given the treatmant"
   ]
  }
 ],
 "metadata": {
  "kernelspec": {
   "display_name": "Python 3",
   "language": "python",
   "name": "python3"
  },
  "language_info": {
   "codemirror_mode": {
    "name": "ipython",
    "version": 3
   },
   "file_extension": ".py",
   "mimetype": "text/x-python",
   "name": "python",
   "nbconvert_exporter": "python",
   "pygments_lexer": "ipython3",
   "version": "3.6.9"
  }
 },
 "nbformat": 4,
 "nbformat_minor": 2
}
