{
 "cells": [
  {
   "cell_type": "markdown",
   "metadata": {},
   "source": [
    "# Market Basket Analysis\n",
    "\n"
   ]
  },
  {
   "cell_type": "markdown",
   "metadata": {},
   "source": [
    "1. The process of discovering frequent item sets in large transactional database is called market basket analysis. \n",
    "2. Frequent item set mining leads to the discovery of associations and correlations among items."
   ]
  },
  {
   "cell_type": "markdown",
   "metadata": {},
   "source": [
    "## Import Library"
   ]
  },
  {
   "cell_type": "code",
   "execution_count": 1,
   "metadata": {},
   "outputs": [],
   "source": [
    "import pandas as pd\n",
    "import numpy as np\n",
    "import seaborn as sns\n",
    "from apyori import apriori"
   ]
  },
  {
   "cell_type": "markdown",
   "metadata": {},
   "source": [
    "## Load Dataset"
   ]
  },
  {
   "cell_type": "markdown",
   "metadata": {},
   "source": [
    "Dataset that will be used is an Item-Surveyed data from the Bootcamp class. This dataset contain 3 items that will be bought by every people in class.\n",
    "\n",
    "List of items:\n",
    "1. HP\n",
    "2. Watch\n",
    "3. Racket\n",
    "4. Camera\n",
    "5. Music Pad\n",
    "6. Mouse\n",
    "7. Router\n",
    "8. Soup\n",
    "9. Bag"
   ]
  },
  {
   "cell_type": "code",
   "execution_count": 165,
   "metadata": {},
   "outputs": [
    {
     "data": {
      "text/html": [
       "<div>\n",
       "<style scoped>\n",
       "    .dataframe tbody tr th:only-of-type {\n",
       "        vertical-align: middle;\n",
       "    }\n",
       "\n",
       "    .dataframe tbody tr th {\n",
       "        vertical-align: top;\n",
       "    }\n",
       "\n",
       "    .dataframe thead th {\n",
       "        text-align: right;\n",
       "    }\n",
       "</style>\n",
       "<table border=\"1\" class=\"dataframe\">\n",
       "  <thead>\n",
       "    <tr style=\"text-align: right;\">\n",
       "      <th></th>\n",
       "      <th>Item 1</th>\n",
       "      <th>Item 2</th>\n",
       "      <th>Item 3</th>\n",
       "    </tr>\n",
       "  </thead>\n",
       "  <tbody>\n",
       "    <tr>\n",
       "      <td>0</td>\n",
       "      <td>HP</td>\n",
       "      <td>Racket</td>\n",
       "      <td>Watch</td>\n",
       "    </tr>\n",
       "    <tr>\n",
       "      <td>1</td>\n",
       "      <td>HP</td>\n",
       "      <td>Camera</td>\n",
       "      <td>Watch</td>\n",
       "    </tr>\n",
       "    <tr>\n",
       "      <td>2</td>\n",
       "      <td>Watch</td>\n",
       "      <td>Camera</td>\n",
       "      <td>Music Pad</td>\n",
       "    </tr>\n",
       "    <tr>\n",
       "      <td>3</td>\n",
       "      <td>Camera</td>\n",
       "      <td>Watch</td>\n",
       "      <td>Mouse</td>\n",
       "    </tr>\n",
       "    <tr>\n",
       "      <td>4</td>\n",
       "      <td>HP</td>\n",
       "      <td>Watch</td>\n",
       "      <td>Music Pad</td>\n",
       "    </tr>\n",
       "  </tbody>\n",
       "</table>\n",
       "</div>"
      ],
      "text/plain": [
       "   Item 1  Item 2     Item 3\n",
       "0      HP  Racket      Watch\n",
       "1      HP  Camera      Watch\n",
       "2   Watch  Camera  Music Pad\n",
       "3  Camera   Watch      Mouse\n",
       "4      HP   Watch  Music Pad"
      ]
     },
     "execution_count": 165,
     "metadata": {},
     "output_type": "execute_result"
    }
   ],
   "source": [
    "data=pd.read_csv('data/transaksi.csv')\n",
    "data.head()"
   ]
  },
  {
   "cell_type": "markdown",
   "metadata": {},
   "source": [
    "## Data Proprocessing"
   ]
  },
  {
   "cell_type": "code",
   "execution_count": 137,
   "metadata": {},
   "outputs": [],
   "source": [
    "records = []\n",
    "for i in range(0, 23):\n",
    "    records.append([str(data.values[i,j]) for j in range(0, 3)])"
   ]
  },
  {
   "cell_type": "markdown",
   "metadata": {},
   "source": [
    "This algorithm can't be used in Dataframe, so we have to convert the dataset into list form "
   ]
  },
  {
   "cell_type": "code",
   "execution_count": 169,
   "metadata": {},
   "outputs": [
    {
     "data": {
      "text/plain": [
       "[['HP', 'Racket', 'Watch'],\n",
       " ['HP', 'Camera', 'Watch'],\n",
       " ['Watch', 'Camera', 'Music Pad'],\n",
       " ['Camera', 'Watch', 'Mouse'],\n",
       " ['HP', 'Watch', 'Music Pad'],\n",
       " ['Watch', 'Racket', 'Camera'],\n",
       " ['HP', 'Camera', 'Watch'],\n",
       " ['Watch', 'Camera', 'Music Pad'],\n",
       " ['Racket', 'Soap', 'Guitar'],\n",
       " ['Racket', 'Camera', 'Guitar'],\n",
       " ['Camera', 'Bag', 'nan'],\n",
       " ['Music Pad', 'Guitar', 'Camera'],\n",
       " ['Camera', 'Watch', 'nan'],\n",
       " ['Guitar', 'Camera', 'Music Pad'],\n",
       " ['Camera', 'Watch', 'Music Pad'],\n",
       " ['Camera', 'Racket', 'Guitar'],\n",
       " ['Guitar', 'Camera', 'Watch'],\n",
       " ['Guitar', 'Watch', 'nan'],\n",
       " ['Camera', 'Watch', 'nan'],\n",
       " ['Soap', 'Bag', 'Guitar'],\n",
       " ['Router', 'Bag', 'nan'],\n",
       " ['Watch', 'Racket', 'Soap'],\n",
       " ['Music Pad', 'Soap', 'Watch']]"
      ]
     },
     "execution_count": 169,
     "metadata": {},
     "output_type": "execute_result"
    }
   ],
   "source": [
    "records"
   ]
  },
  {
   "cell_type": "markdown",
   "metadata": {},
   "source": [
    "## Fit the Apriori-Algorithm"
   ]
  },
  {
   "cell_type": "markdown",
   "metadata": {},
   "source": [
    "There are some parameters that should be set in Apriori, such as min_support, min_lift, min_confidence, and min_length\n",
    "\n",
    "1. Support is an indication of how frequently the itemset appears in the dataset\n",
    "2. Confidence is an indication of how often the rule has been found to be true\n",
    "3. Lift is the ratio of the observed support to that expected if X and Y were independent"
   ]
  },
  {
   "cell_type": "code",
   "execution_count": 202,
   "metadata": {},
   "outputs": [],
   "source": [
    "rules = apriori(records, min_support=0.085, min_confidence=0.5, min_lift=1.5, min_length=2)\n",
    "results = list(rules)"
   ]
  },
  {
   "cell_type": "markdown",
   "metadata": {},
   "source": [
    "## Result of Apriori"
   ]
  },
  {
   "cell_type": "code",
   "execution_count": 203,
   "metadata": {},
   "outputs": [
    {
     "name": "stdout",
     "output_type": "stream",
     "text": [
      "Rule: Bag -> nan\n",
      "Support: 0.08695652173913043\n",
      "Confidence: 0.6666666666666666\n",
      "Lift: 3.0666666666666664\n",
      "=====================================\n",
      "Rule: HP -> Watch\n",
      "Support: 0.17391304347826086\n",
      "Confidence: 1.0\n",
      "Lift: 1.5333333333333332\n",
      "=====================================\n",
      "Rule: Soap -> Racket\n",
      "Support: 0.08695652173913043\n",
      "Confidence: 0.5\n",
      "Lift: 1.9166666666666667\n",
      "=====================================\n",
      "Rule: Camera -> Guitar\n",
      "Support: 0.08695652173913043\n",
      "Confidence: 1.0\n",
      "Lift: 1.5333333333333332\n",
      "=====================================\n",
      "Rule: Camera -> Guitar\n",
      "Support: 0.08695652173913043\n",
      "Confidence: 0.6666666666666666\n",
      "Lift: 1.9166666666666665\n",
      "=====================================\n",
      "Rule: Camera -> HP\n",
      "Support: 0.08695652173913043\n",
      "Confidence: 1.0\n",
      "Lift: 1.5333333333333332\n",
      "=====================================\n"
     ]
    }
   ],
   "source": [
    "for item in results:\n",
    "\n",
    "    # first index of the inner list\n",
    "    # Contains base item and add item\n",
    "    pair = item[0] \n",
    "    items = [x for x in pair]\n",
    "    print(\"Rule: \" + items[0] + \" -> \" + items[1])\n",
    "\n",
    "    #second index of the inner list\n",
    "    print(\"Support: \" + str(item[1]))\n",
    "\n",
    "    #third index of the list located at 0th\n",
    "    #of the third index of the inner list\n",
    "\n",
    "    print(\"Confidence: \" + str(item[2][0][2]))\n",
    "    print(\"Lift: \" + str(item[2][0][3]))\n",
    "    print(\"=====================================\")"
   ]
  },
  {
   "cell_type": "markdown",
   "metadata": {},
   "source": [
    "From the apriori, we can see that rule 'HP -> Watch' has the highest confidence value (conf=1), among other rules. We can conclude that if the customer buy HP, they will absolutely buy Watch. \n",
    "\n",
    "This Rule also has the highest Support Value, that means this rule mostly happen in the store among other rules.\n"
   ]
  },
  {
   "cell_type": "markdown",
   "metadata": {},
   "source": [
    "# Thanks"
   ]
  },
  {
   "cell_type": "markdown",
   "metadata": {},
   "source": [
    "Created by Fransdana Nadeak"
   ]
  }
 ],
 "metadata": {
  "kernelspec": {
   "display_name": "Python 3",
   "language": "python",
   "name": "python3"
  },
  "language_info": {
   "codemirror_mode": {
    "name": "ipython",
    "version": 3
   },
   "file_extension": ".py",
   "mimetype": "text/x-python",
   "name": "python",
   "nbconvert_exporter": "python",
   "pygments_lexer": "ipython3",
   "version": "3.6.9"
  }
 },
 "nbformat": 4,
 "nbformat_minor": 2
}
